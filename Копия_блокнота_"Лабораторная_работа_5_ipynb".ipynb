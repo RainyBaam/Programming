{
  "nbformat": 4,
  "nbformat_minor": 0,
  "metadata": {
    "colab": {
      "provenance": []
    },
    "kernelspec": {
      "name": "python3",
      "display_name": "Python 3"
    },
    "language_info": {
      "name": "python"
    }
  },
  "cells": [
    {
      "cell_type": "markdown",
      "source": [
        "# Лабораторная работа 5\n",
        "\n",
        "Решение задачи регрессии.\n",
        "\n",
        "Есть файл web_traffic.tsv, который представляет статистику посещений веб-сервера компании и нашей задачей является предсказание значения посещения, для того, чтобы выделить в нужный момент времени дополнительную мощность сервера и не допустить его перегрузки.\n",
        "\n",
        "Слева находится индекс или номер часа по порядку, в который производился замер посещаемости, а справа - количество запросов сайта за этот час."
      ],
      "metadata": {
        "id": "txirHnm6Faia"
      }
    },
    {
      "cell_type": "markdown",
      "source": [],
      "metadata": {
        "id": "8Xaym_qBp2ZL"
      }
    },
    {
      "cell_type": "code",
      "execution_count": null,
      "metadata": {
        "id": "bSyp5zf7Egid"
      },
      "outputs": [],
      "source": [
        "import pandas as pd\n",
        "import scipy as sp\n",
        "\n",
        "import matplotlib.pyplot as plt"
      ]
    },
    {
      "cell_type": "code",
      "source": [
        "%matplotlib inline"
      ],
      "metadata": {
        "id": "p2BGJ5WWIgp5"
      },
      "execution_count": null,
      "outputs": []
    },
    {
      "cell_type": "code",
      "source": [
        "data = pd.read_csv('web_traffic.tsv',delimiter='\\t',names=[\"hour\", \"requests\"])\n",
        "\n",
        "target_var_name = 'requests'\n",
        "\n",
        "hours_data = data['hour']\n",
        "requests_data = data[target_var_name]\n",
        "\n",
        "import numpy as np\n",
        "from numpy import isnan\n",
        "\n",
        "# TO REFACTOR\n",
        "hours_data = hours_data[~isnan(requests_data)]\n",
        "requests_data = requests_data[~isnan(requests_data)]\n",
        "# исследовали библитеку pandas и нашли способ отсеивать значения nan \n",
        "# более элегантно или эффективно\n",
        "\n",
        "requests_data.head()"
      ],
      "metadata": {
        "id": "iYqVksZSJHbf"
      },
      "execution_count": null,
      "outputs": []
    },
    {
      "cell_type": "code",
      "source": [
        "plt.scatter(hours_data, requests_data, s=3)\n",
        "plt.title('Трафик веб-сайта за последний месяц')\n",
        "\n",
        "plt.xlabel('время')\n",
        "plt.ylabel('запросы/час')\n",
        "\n",
        "plt.xticks([w*7*24 for w in range(10)],[\"неделя %i\" %w for w in range(10)])\n",
        "plt.autoscale(tight=False)\n",
        "\n",
        "plt.grid(True, linestyle='-', color='0.8')\n",
        "plt.show()"
      ],
      "metadata": {
        "id": "uFpCAHDFOGgI"
      },
      "execution_count": null,
      "outputs": []
    },
    {
      "cell_type": "code",
      "source": [
        "def error(f,x,y):\n",
        "    return np.sum((f(x)-y)**2)\n",
        "\n",
        "# Рефакторинг этой функции: найти в документации каким образом \n",
        "# вычисляется mse с помощью функции из scikit-learn"
      ],
      "metadata": {
        "id": "-iKtFuRLSyGi"
      },
      "execution_count": null,
      "outputs": []
    },
    {
      "cell_type": "code",
      "source": [
        "# два предположения по поводу тренда: \n",
        "\n",
        "# 1 - предполагаем один тренд линейный или степенной тренд\n",
        "# 2 - не один тренд, а два - линейных или один линейный, а второй - степенной\n",
        "# где-то по границе 3.5 недели\n",
        "\n",
        "f1p, residuals, rank, sv, rcond = np.polyfit(hours_data, requests_data, 1, full=True)\n",
        "print(\"Параметры модели {}\".format(f1p))"
      ],
      "metadata": {
        "colab": {
          "base_uri": "https://localhost:8080/"
        },
        "id": "wFH1EeDbVBKx",
        "outputId": "aeb0c359-50b5-42ef-b8b2-9ae05aad0422"
      },
      "execution_count": null,
      "outputs": [
        {
          "output_type": "stream",
          "name": "stdout",
          "text": [
            "Параметры модели [  2.59619213 989.02487106]\n"
          ]
        }
      ]
    },
    {
      "cell_type": "code",
      "source": [
        "f1 = np.poly1d(f1p)\n",
        "print(f\"{error(f1, hours_data, requests_data):.5}\")"
      ],
      "metadata": {
        "colab": {
          "base_uri": "https://localhost:8080/"
        },
        "id": "2nMGraRxWz6T",
        "outputId": "38600a1a-5087-4c5d-c3bf-fdeaca542804"
      },
      "execution_count": null,
      "outputs": [
        {
          "output_type": "stream",
          "name": "stdout",
          "text": [
            "3.1739e+08\n"
          ]
        }
      ]
    },
    {
      "cell_type": "markdown",
      "source": [
        "Таким образом, наша модель будет выглядеть следующим образом:\n",
        "```\n",
        "    f(x) = 2.59619213 * x + 989.02487106\n",
        "```\n",
        "MSE = 3.1739e+08"
      ],
      "metadata": {
        "id": "CdgYPN2TWoqe"
      }
    },
    {
      "cell_type": "code",
      "source": [
        "plt.title('Трафик веб-сайта за последний месяц')\n",
        "plt.xlabel('время')\n",
        "plt.ylabel('запросы/час')\n",
        "plt.xticks([w*7*24 for w in range(10)],[\"неделя %i\" %w for w in range(10)])\n",
        "plt.autoscale(tight=False)\n",
        "plt.grid(True, linestyle='-', color='0.8')\n",
        "\n",
        "# визуализация данных\n",
        "plt.scatter(hours_data, requests_data, s=3)\n",
        "\n",
        "# отобразим модель #1 \n",
        "f1x = np.linspace(0, hours_data[len(hours_data)], len(hours_data))\n",
        "f1y = f1(f1x)\n",
        "plt.plot(f1x, f1y, linewidth=1.0, color='red')\n",
        "\n",
        "plt.show()"
      ],
      "metadata": {
        "colab": {
          "base_uri": "https://localhost:8080/",
          "height": 295
        },
        "id": "VnOnyo_iXvmg",
        "outputId": "0a044447-f906-4172-f30a-4aeaa6a3caad"
      },
      "execution_count": null,
      "outputs": [
        {
          "output_type": "display_data",
          "data": {
            "text/plain": [
              "<Figure size 432x288 with 1 Axes>"
            ],
            "image/png": "[encoded data removed]"
          },
          "metadata": {
            "needs_background": "light"
          }
        }
      ]
    },
    {
      "cell_type": "markdown",
      "source": [
        "## Самостоятельная работа (~ 20 минут)\n",
        "\n",
        "1. Реализовать модели степени полинома 2, 3, 5, 10, 20\n",
        "2. Посчитать для каждой из них метрику ошибки MSE и дать характеристику того, что получилось.\n",
        "3. Визуализировать каждую модель на графике так, чтобы это было отображено на одной координатной плоскости.\n",
        "\n",
        "\n",
        "В дискорде в личном сообщении написать в качестве ответа следующее: \n",
        "\n",
        "1. Параметры модели (вектор чисел) x5 (для каждой модели)\n",
        "2. Метрику MSE (x5) для каждой модели.\n",
        "3. Скриншот с графиками: 7 графиков (scatterplot (done), линия для степени полинома 1 (done), график для степени полинома 2, 3, 5, 10, 20)\n",
        "\n",
        "Цвета для графиков степеней полинома: \n",
        "- 1 - black\n",
        "- 2 - blue\n",
        "- 3 - lime\n",
        "- 5 - magenta\n",
        "- 10 - cyan\n",
        "- 20 - red"
      ],
      "metadata": {
        "id": "4NErd79AaOBs"
      }
    },
    {
      "cell_type": "code",
      "source": [
        "# создание моделей степени полинома 2, 3, ... 20\n",
        "f2p, residuals, rank, sv, rcond = np.polyfit(hours_data, requests_data, 2, full=True)\n",
        "f2 = np.poly1d(f2p)\n",
        "print(\"Параметры модели 2 (степень полинома 2) {}\".format(f2p))\n",
        "print(f\"MSE = {error(f2, hours_data, requests_data):.5}\")\n",
        "\n",
        "f3p, residuals, rank, sv, rcond = np.polyfit(hours_data, requests_data, 3, full=True)\n",
        "f3 = np.poly1d(f3p)\n",
        "print(\"Параметры модели 3 (степень полинома 3) {}\".format(f3p))\n",
        "print(f\"MSE = {error(f3, hours_data, requests_data):.5}\")\n"
      ],
      "metadata": {
        "colab": {
          "base_uri": "https://localhost:8080/"
        },
        "id": "bNl6fbvalvfh",
        "outputId": "43ee3802-cd58-490e-bc88-8e03708b57cd"
      },
      "execution_count": null,
      "outputs": [
        {
          "output_type": "stream",
          "name": "stdout",
          "text": [
            "Параметры модели 2 (степень полинома 2) [ 1.05322215e-02 -5.26545650e+00  1.97476082e+03]\n",
            "MSE = 1.7998e+08\n",
            "Параметры модели 3 (степень полинома 3) [ 3.04960132e-05 -2.35893797e-02  4.94226019e+00  1.33328797e+03]\n",
            "MSE = 1.3935e+08\n"
          ]
        }
      ]
    },
    {
      "cell_type": "code",
      "source": [
        "plt.title('Трафик веб-сайта за последний месяц')\n",
        "plt.xlabel('время')\n",
        "plt.ylabel('запросы/час')\n",
        "plt.xticks([w*7*24 for w in range(10)],[\"неделя %i\" %w for w in range(10)])\n",
        "plt.autoscale(tight=False)\n",
        "plt.grid(True, linestyle='-', color='0.8')\n",
        "\n",
        "# визуализация данных\n",
        "plt.scatter(hours_data, requests_data, s=3)\n",
        "\n",
        "# отобразим модель #1 (степень полинома 1)\n",
        "fx = np.linspace(0, hours_data[len(hours_data)], len(hours_data))\n",
        "f1y = f1(fx)\n",
        "plt.plot(fx, f1y, linewidth=1.0, color='black')\n",
        "\n",
        "# отобразим модель #2 (степень полинома 2)\n",
        "f2y = f2(fx)\n",
        "plt.plot(fx, f2y, linewidth=1.0, color='blue')\n",
        "\n",
        "# отобразим модель #3 (степень полинома 3)\n",
        "f3y = f3(fx)\n",
        "plt.plot(fx, f3y, linewidth=1.0, color='lime')\n",
        "\n",
        "# ... \n",
        "\n",
        "\n",
        "\n",
        "plt.show()"
      ],
      "metadata": {
        "colab": {
          "base_uri": "https://localhost:8080/",
          "height": 295
        },
        "id": "fGtUmUgFl--o",
        "outputId": "ab6fb234-8335-4ecd-e110-97d540e0c535"
      },
      "execution_count": null,
      "outputs": [
        {
          "output_type": "display_data",
          "data": {
            "text/plain": [
              "<Figure size 432x288 with 1 Axes>"
            ],
            "image/png": "[encoded data removed]"
          },
          "metadata": {
            "needs_background": "light"
          }
        }
      ]
    },
    {
      "cell_type": "code",
      "source": [
        "divider = int(3.5*7*24)\n",
        "divider2 = int(4.1*7*24)\n",
        "print(divider, divider2)\n",
        "# print(hours_data.shape)\n",
        "hours_data_1, requests_data_1 = hours_data[:divider], requests_data[:divider]\n",
        "hours_data_2, requests_data_2 = hours_data[divider:divider2], requests_data[divider:divider2]\n",
        "\n",
        "hours_data_test, requests_data_test = hours_data[divider2:], requests_data[divider2:]\n",
        "\n",
        "print(requests_data_1.shape, requests_data_2.shape, requests_data_test.shape)"
      ],
      "metadata": {
        "colab": {
          "base_uri": "https://localhost:8080/"
        },
        "id": "N4nqgS5Wo3r7",
        "outputId": "cf7390f2-c81d-434d-c5f8-a588845c8f2b"
      },
      "execution_count": null,
      "outputs": [
        {
          "output_type": "stream",
          "name": "stdout",
          "text": [
            "588 688\n",
            "(588,) (100,) (47,)\n"
          ]
        }
      ]
    },
    {
      "cell_type": "code",
      "source": [
        "f3p, residuals, rank, sv, rcond = np.polyfit(hours_data_1, requests_data_1, 3, full=True)\n",
        "f3 = np.poly1d(f3p)\n",
        "print(f\"MSE (для данных ДО 3.5 недели)= {error(f3, hours_data_1, requests_data_1):.5}\")\n",
        "print(f\"MSE (только для данных с 3.5 недели)= {error(f3, hours_data_2, requests_data_2):.5}\")"
      ],
      "metadata": {
        "colab": {
          "base_uri": "https://localhost:8080/"
        },
        "id": "PEcG8Bs6r_eb",
        "outputId": "620646a1-1ef0-413c-d4ea-c94cc88c1700"
      },
      "execution_count": null,
      "outputs": [
        {
          "output_type": "stream",
          "name": "stdout",
          "text": [
            "MSE (для данных ДО 3.5 недели)= 1.0159e+08\n",
            "MSE (только для данных с 3.5 недели)= 8.4713e+07\n"
          ]
        }
      ]
    },
    {
      "cell_type": "code",
      "source": [
        "f20p, residuals, rank, sv, rcond = np.polyfit(hours_data_2, requests_data_2, 20, full=True)\n",
        "f20 = np.poly1d(f20p)\n",
        "print(f\"MSE (для данных c 3.5 недели по 4.1 недели)= {error(f20, hours_data_2, requests_data_2):.5}\")\n",
        "print(f\"MSE (только для данных с 3.5 недели)= {error(f20, hours_data_test, requests_data_test):.5}\")"
      ],
      "metadata": {
        "colab": {
          "base_uri": "https://localhost:8080/"
        },
        "id": "8XA3mCjUtyOi",
        "outputId": "dc4575d6-4ac8-4c9b-df86-4097473a21bd"
      },
      "execution_count": null,
      "outputs": [
        {
          "output_type": "stream",
          "name": "stdout",
          "text": [
            "MSE (для данных c 3.5 недели по 4.1 недели)= 9.9735e+06\n",
            "MSE (только для данных с 3.5 недели)= 1.0232e+15\n"
          ]
        }
      ]
    },
    {
      "cell_type": "markdown",
      "source": [
        "# Ответить на вопрос\n",
        "\n",
        "Какая модель для гипотезы, при которой весь набор данных представляет собой два диапазона значений (от 0 недели до 3.5 недели и с 3.5 недели до конца), подходит наилучшим образом?\n",
        "Модель, в данном случае, это степень полинома. \n",
        "Мы уже знаем (см. ячейку выше), что степень полинома 20 плохо подходит для тестовых данных (hours_data_test и requests_data_test) потому что ошибка для тестовых данных на 9 порядков выше, чем ошибка для тренировочного набора данных."
      ],
      "metadata": {
        "id": "4ZGwmyyIxD-i"
      }
    },
    {
      "cell_type": "markdown",
      "source": [
        "# Решение\n",
        "\n"
      ],
      "metadata": {
        "id": "aR55kN8HqA8J"
      }
    },
    {
      "cell_type": "code",
      "source": [
        "# 1 степень\n",
        "f1p, residuals, rank, sv, rcond = np.polyfit(hours_data_1, requests_data_1, 1, full=True) # обучаем модель на 1 степени полинома\n",
        "f1 = np.poly1d(f1p) # находим параметры модели\n",
        "\n",
        "before_err = error(f1, hours_data_1, requests_data_1) # вычисляем ошибку в первом диапазоне\n",
        "after_err = error(f1, hours_data_2, requests_data_2) # вычисляем ошибку во втором диапазоне\n",
        "\n",
        "print(f\"Степень: 1\")\n",
        "# выводим ошибки\n",
        "print(f\"MSE (для данных ДО 3.5 недели) = {before_err:.5}\")\n",
        "print(f\"MSE (только данных с 3.5 недели) = {after_err:.5}\")\n",
        "\n",
        "# находим разницу ошибок\n",
        "print(f\"Разница MSE: {(after_err - before_err):.5}\\n\")"
      ],
      "metadata": {
        "id": "qIxj0HgBrC2m"
      },
      "execution_count": null,
      "outputs": []
    },
    {
      "cell_type": "markdown",
      "source": [
        "Степень: 1 \\\n",
        "MSE (для данных ДО 3.5 недели) = 1.1081e+08 \\\n",
        "MSE (только данных с 3.5 недели) = 3.551e+08 \\\n",
        "Разница MSE: 2.4429e+08"
      ],
      "metadata": {
        "id": "51wWyNcRr098"
      }
    },
    {
      "cell_type": "code",
      "source": [
        "# 2 степень\n",
        "f2p, residuals, rank, sv, rcond = np.polyfit(hours_data_1, requests_data_1, 2, full=True)\n",
        "f2 = np.poly1d(f2p)\n",
        "\n",
        "before_err = error(f2, hours_data_1, requests_data_1)\n",
        "after_err = error(f2, hours_data_2, requests_data_2)\n",
        "\n",
        "print(f\"Степень: 2\")\n",
        "print(f\"MSE (для данных ДО 3.5 недели) = {before_err:.5}\")\n",
        "print(f\"MSE (только данных с 3.5 недели) = {after_err:.5}\")\n",
        "print(f\"Разница MSE: {(after_err - before_err):.5}\\n\")"
      ],
      "metadata": {
        "id": "mS4u-hyQr_M2"
      },
      "execution_count": null,
      "outputs": []
    },
    {
      "cell_type": "markdown",
      "source": [
        "Степень: 2 \\\n",
        "MSE (для данных ДО 3.5 недели) = 1.0282e+08 \\\n",
        "MSE (только данных с 3.5 недели) = 1.8116e+08 \\\n",
        "Разница MSE: 7.8346e+07"
      ],
      "metadata": {
        "id": "h1pKfHaqr__N"
      }
    },
    {
      "cell_type": "code",
      "source": [
        "# 3 степень\n",
        "f3p, residuals, rank, sv, rcond = np.polyfit(hours_data_1, requests_data_1, 3, full=True)\n",
        "f3 = np.poly1d(f3p)\n",
        "\n",
        "before_err = error(f3, hours_data_1, requests_data_1)\n",
        "after_err = error(f3, hours_data_2, requests_data_2)\n",
        "\n",
        "print(f\"Степень: 3\")\n",
        "print(f\"MSE (для данных ДО 3.5 недели) = {before_err:.5}\")\n",
        "print(f\"MSE (только данных с 3.5 недели) = {after_err:.5}\")\n",
        "print(f\"Разница MSE: {(after_err - before_err):.5}\\n\")"
      ],
      "metadata": {
        "id": "UoObkSYhsDjW"
      },
      "execution_count": null,
      "outputs": []
    },
    {
      "cell_type": "markdown",
      "source": [
        "Степень: 3 \\\n",
        "MSE (для данных ДО 3.5 недели) = 1.0159e+08 \\\n",
        "MSE (только данных с 3.5 недели) = 8.4713e+07 \\\n",
        "Разница MSE: -1.6873e+07"
      ],
      "metadata": {
        "id": "1msoJnvgsFbh"
      }
    },
    {
      "cell_type": "code",
      "source": [
        "# 4 степень\n",
        "f4p, residuals, rank, sv, rcond = np.polyfit(hours_data_1, requests_data_1, 4, full=True)\n",
        "f4 = np.poly1d(f4p)\n",
        "\n",
        "before_err = error(f4, hours_data_1, requests_data_1)\n",
        "after_err = error(f4, hours_data_2, requests_data_2)\n",
        "\n",
        "print(f\"Степень: 4\")\n",
        "print(f\"MSE (для данных ДО 3.5 недели) = {before_err:.5}\")\n",
        "print(f\"MSE (только данных с 3.5 недели) = {after_err:.5}\")\n",
        "print(f\"Разница MSE: {(after_err - before_err):.5}\\n\")"
      ],
      "metadata": {
        "id": "Pjk3iGcFsMDg"
      },
      "execution_count": null,
      "outputs": []
    },
    {
      "cell_type": "markdown",
      "source": [
        "Степень: 4 \\\n",
        "MSE (для данных ДО 3.5 недели) = 1.0117e+08 \\\n",
        "MSE (только данных с 3.5 недели) = 3.1047e+07 \\\n",
        "Разница MSE: -7.0123e+07"
      ],
      "metadata": {
        "id": "K5zCxhjksMoN"
      }
    },
    {
      "cell_type": "code",
      "source": [
        "# 5 степень\n",
        "f5p, residuals, rank, sv, rcond = np.polyfit(hours_data_1, requests_data_1, 5, full=True)\n",
        "f5 = np.poly1d(f5p)\n",
        "\n",
        "before_err = error(f5, hours_data_1, requests_data_1)\n",
        "after_err = error(f5, hours_data_2, requests_data_2)\n",
        "\n",
        "print(f\"Степень: 5\")\n",
        "print(f\"MSE (для данных ДО 3.5 недели) = {before_err:.5}\")\n",
        "print(f\"MSE (только данных с 3.5 недели) = {after_err:.5}\")\n",
        "print(f\"Разница MSE: {(after_err - before_err):.5}\\n\")"
      ],
      "metadata": {
        "id": "fxEpvPCQsQbe"
      },
      "execution_count": null,
      "outputs": []
    },
    {
      "cell_type": "markdown",
      "source": [
        "Степень: 5 \\\n",
        "MSE (для данных ДО 3.5 недели) = 1.0116e+08 \\\n",
        "MSE (только данных с 3.5 недели) = 4.1021e+07 \\\n",
        "Разница MSE: -6.014e+07"
      ],
      "metadata": {
        "id": "ozBc7JaJsS9u"
      }
    },
    {
      "cell_type": "code",
      "source": [
        "# 10 степень\n",
        "f10p, residuals, rank, sv, rcond = np.polyfit(hours_data_1, requests_data_1, 10, full=True)\n",
        "f10 = np.poly1d(f10p)\n",
        "\n",
        "before_err = error(f10, hours_data_1, requests_data_1)\n",
        "after_err = error(f10, hours_data_2, requests_data_2)\n",
        "\n",
        "print(f\"Степень: 10\")\n",
        "print(f\"MSE (для данных ДО 3.5 недели) = {before_err:.5}\")\n",
        "print(f\"MSE (только данных с 3.5 недели) = {after_err:.5}\")\n",
        "print(f\"Разница MSE: {(after_err - before_err):.5}\\n\")"
      ],
      "metadata": {
        "id": "cjPJGnG_sWYs"
      },
      "execution_count": null,
      "outputs": []
    },
    {
      "cell_type": "markdown",
      "source": [
        "Степень: 10 \\\n",
        "MSE (для данных ДО 3.5 недели) = 9.3236e+07 \\\n",
        "MSE (только данных с 3.5 недели) = 2.1939e+13 \\\n",
        "Разница MSE: 2.1939e+13"
      ],
      "metadata": {
        "id": "Sm8QxCzWsYVc"
      }
    },
    {
      "cell_type": "code",
      "source": [
        "# 20 степень\n",
        "f20p, residuals, rank, sv, rcond = np.polyfit(hours_data_1, requests_data_1, 20, full=True)\n",
        "f20 = np.poly1d(f20p)\n",
        "\n",
        "before_err = error(f20, hours_data_1, requests_data_1)\n",
        "after_err = error(f20, hours_data_2, requests_data_2)\n",
        "\n",
        "print(f\"Степень: 20\")\n",
        "print(f\"MSE (для данных ДО 3.5 недели) = {before_err:.5}\")\n",
        "print(f\"MSE (только данных с 3.5 недели) = {after_err:.5}\")\n",
        "print(f\"Разница MSE: {(after_err - before_err):.5}\\n\")"
      ],
      "metadata": {
        "id": "JRzeYe6Fsa4P"
      },
      "execution_count": null,
      "outputs": []
    },
    {
      "cell_type": "markdown",
      "source": [
        "Степень: 20 \\\n",
        "MSE (для данных ДО 3.5 недели) = 9.0578e+07 \\\n",
        "MSE (только данных с 3.5 недели) = 2.4825e+17 \\\n",
        "Разница MSE: 2.4825e+17"
      ],
      "metadata": {
        "id": "FoX_GSD2sdYY"
      }
    },
    {
      "cell_type": "markdown",
      "source": [
        "# Ответ\n",
        "Лучше всего подойдёт модель с 4 степенью, так как ошибка тестовых данных там даже меньше, чем у входных, и эта разница максимальна среди остальных моделей"
      ],
      "metadata": {
        "id": "lFBYayXqsf9O"
      }
    }
  ]
}